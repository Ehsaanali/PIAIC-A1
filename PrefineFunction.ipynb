{
 "cells": [
  {
   "cell_type": "code",
   "execution_count": 2,
   "metadata": {},
   "outputs": [
    {
     "name": "stdout",
     "output_type": "stream",
     "text": [
      "EHSAAN ALI\n",
      "EHsaan Ali\n"
     ]
    }
   ],
   "source": [
    "\n",
    "a = \"EHsaan Ali\"\n",
    "print(a.upper()) \n",
    "print(a)"
   ]
  },
  {
   "cell_type": "code",
   "execution_count": 4,
   "metadata": {},
   "outputs": [
    {
     "name": "stdout",
     "output_type": "stream",
     "text": [
      "ehsaan ali\n"
     ]
    }
   ],
   "source": [
    "a = \"Ehsaan Ali\"\n",
    "a = a.lower() \n",
    "print(a)"
   ]
  },
  {
   "cell_type": "code",
   "execution_count": 6,
   "metadata": {},
   "outputs": [
    {
     "name": "stdout",
     "output_type": "stream",
     "text": [
      "18\n"
     ]
    }
   ],
   "source": [
    "\n",
    "a = \"     Ehsaan Ali   \"\n",
    "print(len(a))\n"
   ]
  },
  {
   "cell_type": "code",
   "execution_count": 8,
   "metadata": {},
   "outputs": [
    {
     "name": "stdout",
     "output_type": "stream",
     "text": [
      "     Ehsaan Ali\n",
      "Ehsaan Ali   \n",
      "     Ehsaan Ali   \n"
     ]
    }
   ],
   "source": [
    "a = \"     Ehsaan Ali   \"\n",
    "print(a.rstrip())\n",
    "print(a.lstrip())\n",
    "print(a)"
   ]
  },
  {
   "cell_type": "code",
   "execution_count": 9,
   "metadata": {},
   "outputs": [
    {
     "name": "stdout",
     "output_type": "stream",
     "text": [
      " name : ehsaan \n",
      "fathername : muhammad ramzan\n",
      "program: piaic \n"
     ]
    }
   ],
   "source": [
    "name =\"ehsaan\"\n",
    "fathername=\"muhammad ramzan\"\n",
    "program =\"piaic\"\n",
    "\n",
    "card = \"\"\" name : %s \n",
    "fathername : %s\n",
    "program: %s \"\"\"\n",
    "print(card%(name, fathername , program))"
   ]
  },
  {
   "cell_type": "code",
   "execution_count": 10,
   "metadata": {},
   "outputs": [
    {
     "name": "stdout",
     "output_type": "stream",
     "text": [
      "Ehsaan ali\n"
     ]
    }
   ],
   "source": [
    "name = \"Ehsaan Ali\"\n",
    "print(name.capitalize())"
   ]
  },
  {
   "cell_type": "code",
   "execution_count": 11,
   "metadata": {},
   "outputs": [
    {
     "name": "stdout",
     "output_type": "stream",
     "text": [
      "Ehsaan Ali\n"
     ]
    }
   ],
   "source": [
    "name = \"ehsaan Ali\"\n",
    "print(name.title())"
   ]
  },
  {
   "cell_type": "code",
   "execution_count": 13,
   "metadata": {},
   "outputs": [
    {
     "name": "stdout",
     "output_type": "stream",
     "text": [
      "               Ehsaan Ali               \n"
     ]
    }
   ],
   "source": [
    "name ='Ehsaan Ali'\n",
    "print(name.center(40))"
   ]
  },
  {
   "cell_type": "code",
   "execution_count": 15,
   "metadata": {},
   "outputs": [
    {
     "name": "stdout",
     "output_type": "stream",
     "text": [
      "2\n"
     ]
    }
   ],
   "source": [
    "\n",
    "name='Ehsaan Ali'\n",
    "print(name.count('a'))"
   ]
  },
  {
   "cell_type": "code",
   "execution_count": 32,
   "metadata": {},
   "outputs": [
    {
     "name": "stdout",
     "output_type": "stream",
     "text": [
      "2\n"
     ]
    }
   ],
   "source": [
    "name='Ehsaan Ali'\n",
    "print(name.find('s'))"
   ]
  },
  {
   "cell_type": "code",
   "execution_count": 33,
   "metadata": {},
   "outputs": [
    {
     "data": {
      "text/plain": [
       "'we are pakistan we love our country!'"
      ]
     },
     "execution_count": 33,
     "metadata": {},
     "output_type": "execute_result"
    }
   ],
   "source": [
    "a =\"we are pakistan we love our country!\"\n",
    "a"
   ]
  },
  {
   "cell_type": "code",
   "execution_count": 35,
   "metadata": {},
   "outputs": [
    {
     "name": "stdout",
     "output_type": "stream",
     "text": [
      "E,h,s,a,a,n\n"
     ]
    }
   ],
   "source": [
    "string = 'Ehsaan'\n",
    "sep = ','\n",
    "print(sep.join(string))\n"
   ]
  },
  {
   "cell_type": "code",
   "execution_count": 37,
   "metadata": {},
   "outputs": [
    {
     "name": "stdout",
     "output_type": "stream",
     "text": [
      "PROUD    PAKISTANI\n",
      "   PROUD    PAKISTANI  \n"
     ]
    }
   ],
   "source": [
    "s = \"   PROUD    PAKISTANI  \"\n",
    "print(s.strip())\n",
    "print(s.strip('pak'))\n"
   ]
  },
  {
   "cell_type": "code",
   "execution_count": 38,
   "metadata": {},
   "outputs": [
    {
     "name": "stdout",
     "output_type": "stream",
     "text": [
      "False\n",
      "True\n"
     ]
    },
    {
     "data": {
      "text/plain": [
       "True"
      ]
     },
     "execution_count": 38,
     "metadata": {},
     "output_type": "execute_result"
    }
   ],
   "source": [
    "string = '1'\n",
    "print(string.isidentifier())\n",
    "\n",
    "word = 'ehsaan'\n",
    "print(word.isidentifier())\n",
    "\n",
    "s = \"ali\"\n",
    "s.isidentifier()"
   ]
  },
  {
   "cell_type": "code",
   "execution_count": 40,
   "metadata": {},
   "outputs": [
    {
     "data": {
      "text/plain": [
       "'ehsaanehsaan'"
      ]
     },
     "execution_count": 40,
     "metadata": {},
     "output_type": "execute_result"
    }
   ],
   "source": [
    "a = \"ehsaan\"\n",
    "a * 2"
   ]
  },
  {
   "cell_type": "code",
   "execution_count": 41,
   "metadata": {},
   "outputs": [
    {
     "name": "stdout",
     "output_type": "stream",
     "text": [
      "<class 'list'>\n",
      "hamza\n"
     ]
    }
   ],
   "source": [
    "names = [\"ALi\", \"hamza\", \"qasim\", 200]\n",
    "print(type(names))\n",
    "print(names[1])"
   ]
  },
  {
   "cell_type": "markdown",
   "metadata": {},
   "source": [
    "# oprands with different oprators "
   ]
  },
  {
   "cell_type": "code",
   "execution_count": 42,
   "metadata": {},
   "outputs": [
    {
     "data": {
      "text/plain": [
       "29.0"
      ]
     },
     "execution_count": 42,
     "metadata": {},
     "output_type": "execute_result"
    }
   ],
   "source": [
    "5 + 4 - 5 * 2+ (10 + 2) + 5 - (10 ^ 2 ) * 5 / 5 + 1 - 4 + 7+(4 ^ 2 )+ 3 + (4 - 5) + 9"
   ]
  },
  {
   "cell_type": "code",
   "execution_count": null,
   "metadata": {},
   "outputs": [],
   "source": [
    "print('abc')"
   ]
  }
 ],
 "metadata": {
  "kernelspec": {
   "display_name": "Python 3",
   "language": "python",
   "name": "python3"
  },
  "language_info": {
   "codemirror_mode": {
    "name": "ipython",
    "version": 3
   },
   "file_extension": ".py",
   "mimetype": "text/x-python",
   "name": "python",
   "nbconvert_exporter": "python",
   "pygments_lexer": "ipython3",
   "version": "3.7.4"
  }
 },
 "nbformat": 4,
 "nbformat_minor": 2
}
